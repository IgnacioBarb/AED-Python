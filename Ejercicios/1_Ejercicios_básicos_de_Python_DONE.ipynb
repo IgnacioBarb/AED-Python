{
  "nbformat": 4,
  "nbformat_minor": 0,
  "metadata": {
    "colab": {
      "name": "Copia de Ejercicios_básicos_de_Python.ipynb",
      "provenance": []
    },
    "kernelspec": {
      "name": "python3",
      "display_name": "Python 3"
    },
    "language_info": {
      "name": "python"
    }
  },
  "cells": [
    {
      "cell_type": "markdown",
      "metadata": {
        "id": "RL-pITQqPt9a"
      },
      "source": [
        "1. Crea una lista denominada \"islas\" con los nombres de las Islas Canarias (sin La Graciosa)"
      ]
    },
    {
      "cell_type": "code",
      "metadata": {
        "id": "-tCZMIrwNwX8"
      },
      "source": [
        "islas = [\"La Palma\", \"El Hierro\", \"La Gomera\", \"Tenerife\", \"Gran Canaria\", \"Lanzarote\", \"Fuerteventura\"]"
      ],
      "execution_count": 20,
      "outputs": []
    },
    {
      "cell_type": "markdown",
      "metadata": {
        "id": "F0uHBoNIQaol"
      },
      "source": [
        "2. Muestre el tipo de dato de \"islas\""
      ]
    },
    {
      "cell_type": "code",
      "metadata": {
        "id": "v5gRck7JPNxj",
        "colab": {
          "base_uri": "https://localhost:8080/"
        },
        "outputId": "3bc321e8-e926-49fe-ff2e-f49b44555030"
      },
      "source": [
        "type(islas)"
      ],
      "execution_count": 3,
      "outputs": [
        {
          "output_type": "execute_result",
          "data": {
            "text/plain": [
              "list"
            ]
          },
          "metadata": {},
          "execution_count": 3
        }
      ]
    },
    {
      "cell_type": "markdown",
      "metadata": {
        "id": "vtIi_BKuQhzB"
      },
      "source": [
        "3. ¿Cuántos elementos tiene la lista?"
      ]
    },
    {
      "cell_type": "code",
      "metadata": {
        "id": "jinngE-IPvbp",
        "colab": {
          "base_uri": "https://localhost:8080/"
        },
        "outputId": "9225e94c-71bb-4189-ef23-890394b62fe4"
      },
      "source": [
        "len(islas)"
      ],
      "execution_count": 4,
      "outputs": [
        {
          "output_type": "execute_result",
          "data": {
            "text/plain": [
              "7"
            ]
          },
          "metadata": {},
          "execution_count": 4
        }
      ]
    },
    {
      "cell_type": "markdown",
      "metadata": {
        "id": "jdjxinSmQ07Z"
      },
      "source": [
        "4. Muestra el primer elemento de la lista. Muestre después el cuarto elemento de la lista"
      ]
    },
    {
      "cell_type": "code",
      "metadata": {
        "id": "2M3duckrPztx",
        "colab": {
          "base_uri": "https://localhost:8080/",
          "height": 35
        },
        "outputId": "863c28c6-f27f-4f47-90e0-26562b24de88"
      },
      "source": [
        "islas[0]"
      ],
      "execution_count": 5,
      "outputs": [
        {
          "output_type": "execute_result",
          "data": {
            "application/vnd.google.colaboratory.intrinsic+json": {
              "type": "string"
            },
            "text/plain": [
              "'La Palma'"
            ]
          },
          "metadata": {},
          "execution_count": 5
        }
      ]
    },
    {
      "cell_type": "code",
      "metadata": {
        "id": "eh293QgyQHTA",
        "colab": {
          "base_uri": "https://localhost:8080/",
          "height": 35
        },
        "outputId": "7479d10c-1b1d-49a7-ec79-86047d670d59"
      },
      "source": [
        "islas[3]"
      ],
      "execution_count": 6,
      "outputs": [
        {
          "output_type": "execute_result",
          "data": {
            "application/vnd.google.colaboratory.intrinsic+json": {
              "type": "string"
            },
            "text/plain": [
              "'Tenerife'"
            ]
          },
          "metadata": {},
          "execution_count": 6
        }
      ]
    },
    {
      "cell_type": "markdown",
      "metadata": {
        "id": "92cUTXBLRKnG"
      },
      "source": [
        "5. Muestra el tipo de dato del primer elemento de la lista"
      ]
    },
    {
      "cell_type": "code",
      "metadata": {
        "id": "ZUgLhZkWQMbn",
        "colab": {
          "base_uri": "https://localhost:8080/"
        },
        "outputId": "632bf067-2435-4095-fc13-f58f9311c9a8"
      },
      "source": [
        "type(islas[0])"
      ],
      "execution_count": 7,
      "outputs": [
        {
          "output_type": "execute_result",
          "data": {
            "text/plain": [
              "str"
            ]
          },
          "metadata": {},
          "execution_count": 7
        }
      ]
    },
    {
      "cell_type": "markdown",
      "metadata": {
        "id": "0ZOTl4bnRQj2"
      },
      "source": [
        "6. Ordena la lista \"islas\" por orden alfabético y muéstrela en pantalla"
      ]
    },
    {
      "cell_type": "code",
      "metadata": {
        "id": "x2WUaTQyQYsn",
        "colab": {
          "base_uri": "https://localhost:8080/"
        },
        "outputId": "94629e49-1027-4a09-da84-8cb18fbfdf43"
      },
      "source": [
        "sorted(islas)"
      ],
      "execution_count": 22,
      "outputs": [
        {
          "output_type": "execute_result",
          "data": {
            "text/plain": [
              "['El Hierro',\n",
              " 'Fuerteventura',\n",
              " 'Gran Canaria',\n",
              " 'La Gomera',\n",
              " 'La Palma',\n",
              " 'Lanzarote',\n",
              " 'Tenerife']"
            ]
          },
          "metadata": {},
          "execution_count": 22
        }
      ]
    },
    {
      "cell_type": "markdown",
      "metadata": {
        "id": "SoBsVMqwTK5m"
      },
      "source": [
        "7. Muestra el último elemento de la lista"
      ]
    },
    {
      "cell_type": "code",
      "metadata": {
        "id": "OerimlnlRBhY",
        "colab": {
          "base_uri": "https://localhost:8080/",
          "height": 35
        },
        "outputId": "7af73d7c-c10c-4999-b96f-e77c5e9c5e2e"
      },
      "source": [
        "islas[len(islas)-1]"
      ],
      "execution_count": 9,
      "outputs": [
        {
          "output_type": "execute_result",
          "data": {
            "application/vnd.google.colaboratory.intrinsic+json": {
              "type": "string"
            },
            "text/plain": [
              "'Fuerteventura'"
            ]
          },
          "metadata": {},
          "execution_count": 9
        }
      ]
    },
    {
      "cell_type": "markdown",
      "metadata": {
        "id": "B-a55S5hTaYJ"
      },
      "source": [
        "8. Muestra los tres primeros elementos de la lista"
      ]
    },
    {
      "cell_type": "code",
      "metadata": {
        "id": "tkkWIvEwRaPa",
        "colab": {
          "base_uri": "https://localhost:8080/"
        },
        "outputId": "148b95f1-d1e0-45bc-a3e1-a1c431101d0d"
      },
      "source": [
        "islas[0:3]"
      ],
      "execution_count": 10,
      "outputs": [
        {
          "output_type": "execute_result",
          "data": {
            "text/plain": [
              "['La Palma', 'El Hierro', 'La Gomera']"
            ]
          },
          "metadata": {},
          "execution_count": 10
        }
      ]
    },
    {
      "cell_type": "markdown",
      "metadata": {
        "id": "Nn98RkJwToVq"
      },
      "source": [
        "9. Muestra los dos últimos elementos de la lista"
      ]
    },
    {
      "cell_type": "code",
      "metadata": {
        "id": "WJSnpgYfRiZG",
        "colab": {
          "base_uri": "https://localhost:8080/"
        },
        "outputId": "0d3cc74f-5dae-4d0e-e1d1-9a33c2d8e6ee"
      },
      "source": [
        "islas[len(islas)-2:len(islas)]"
      ],
      "execution_count": 11,
      "outputs": [
        {
          "output_type": "execute_result",
          "data": {
            "text/plain": [
              "['Lanzarote', 'Fuerteventura']"
            ]
          },
          "metadata": {},
          "execution_count": 11
        }
      ]
    },
    {
      "cell_type": "markdown",
      "metadata": {
        "id": "3wYntBwBXL3P"
      },
      "source": [
        "10. ¿Qué posición ocupa \"La Gomera\" en la lista \"islas\"?"
      ]
    },
    {
      "cell_type": "code",
      "metadata": {
        "id": "8rOs6bYRR8Q_",
        "colab": {
          "base_uri": "https://localhost:8080/"
        },
        "outputId": "02851ae1-3724-46ab-c59b-ff5434ae6ce7"
      },
      "source": [
        "islas.index(\"La Gomera\")"
      ],
      "execution_count": 12,
      "outputs": [
        {
          "output_type": "execute_result",
          "data": {
            "text/plain": [
              "2"
            ]
          },
          "metadata": {},
          "execution_count": 12
        }
      ]
    },
    {
      "cell_type": "markdown",
      "metadata": {
        "id": "74LCirh7T434"
      },
      "source": [
        "11. Añade \"La Graciosa\" a la lista \"islas\""
      ]
    },
    {
      "cell_type": "code",
      "metadata": {
        "id": "5Dy2wa7lSpom",
        "colab": {
          "base_uri": "https://localhost:8080/"
        },
        "outputId": "59e1dafb-2430-4c55-df48-b696c0095e1e"
      },
      "source": [
        "islas.append(\"La Graciosa\")\n",
        "islas"
      ],
      "execution_count": 15,
      "outputs": [
        {
          "output_type": "execute_result",
          "data": {
            "text/plain": [
              "['La Palma',\n",
              " 'El Hierro',\n",
              " 'La Gomera',\n",
              " 'Tenerife',\n",
              " 'Gran Canaria',\n",
              " 'Lanzarote',\n",
              " 'Fuerteventura',\n",
              " 'La Graciosa']"
            ]
          },
          "metadata": {},
          "execution_count": 15
        }
      ]
    },
    {
      "cell_type": "markdown",
      "metadata": {
        "id": "Ajf8AN-7Wb9K"
      },
      "source": [
        "12. Comprueba si \"La Graciosa\" está en la lista \"islas\""
      ]
    },
    {
      "cell_type": "code",
      "metadata": {
        "id": "_gOTvhrEZ_wV",
        "outputId": "82da43ee-5bcd-4908-e8a4-0daac6b2472d",
        "colab": {
          "base_uri": "https://localhost:8080/"
        }
      },
      "source": [
        "\"La Graciosa\" in islas"
      ],
      "execution_count": 16,
      "outputs": [
        {
          "output_type": "execute_result",
          "data": {
            "text/plain": [
              "True"
            ]
          },
          "metadata": {},
          "execution_count": 16
        }
      ]
    },
    {
      "cell_type": "markdown",
      "metadata": {
        "id": "-2PaFdVfW0W1"
      },
      "source": [
        "13. Elimina \"La Graciosa\" de la lista \"islas\" y compruebe si \"La Graciosa\" está en la lista \"islas\""
      ]
    },
    {
      "cell_type": "code",
      "metadata": {
        "id": "oku7quwIcY18",
        "outputId": "5aa163a1-6841-40a2-8e9d-bdca4a8c487f",
        "colab": {
          "base_uri": "https://localhost:8080/"
        }
      },
      "source": [
        "del islas[-1]\n",
        "islas"
      ],
      "execution_count": 17,
      "outputs": [
        {
          "output_type": "execute_result",
          "data": {
            "text/plain": [
              "['La Palma',\n",
              " 'El Hierro',\n",
              " 'La Gomera',\n",
              " 'Tenerife',\n",
              " 'Gran Canaria',\n",
              " 'Lanzarote',\n",
              " 'Fuerteventura']"
            ]
          },
          "metadata": {},
          "execution_count": 17
        }
      ]
    },
    {
      "cell_type": "markdown",
      "metadata": {
        "id": "mag-C9DnYxM1"
      },
      "source": [
        "14. Muestra los elementos de la lista de uno en uno"
      ]
    },
    {
      "cell_type": "code",
      "metadata": {
        "id": "EUsYOY1ZdEZj",
        "outputId": "db9a5240-8378-496c-da4d-628c2a23f270",
        "colab": {
          "base_uri": "https://localhost:8080/"
        }
      },
      "source": [
        "for n in islas:\n",
        "  print(n)"
      ],
      "execution_count": 23,
      "outputs": [
        {
          "output_type": "stream",
          "name": "stdout",
          "text": [
            "La Palma\n",
            "El Hierro\n",
            "La Gomera\n",
            "Tenerife\n",
            "Gran Canaria\n",
            "Lanzarote\n",
            "Fuerteventura\n"
          ]
        }
      ]
    },
    {
      "cell_type": "markdown",
      "metadata": {
        "id": "f44HAA2IIfIZ"
      },
      "source": [
        "15. Pregúntale al usuario en qué isla reside, almacénelo en la variable isla e indique al usuario \"Resides en la isla ....\""
      ]
    },
    {
      "cell_type": "code",
      "metadata": {
        "id": "1wIp5dxaeL8C",
        "outputId": "907888be-00e1-4ed9-8de5-344a7e6de74e",
        "colab": {
          "base_uri": "https://localhost:8080/"
        }
      },
      "source": [
        "isla = input(\"¿En que isla vives? \\n\")\n",
        "print(\"Resides en la isla \"+isla)"
      ],
      "execution_count": 31,
      "outputs": [
        {
          "output_type": "stream",
          "name": "stdout",
          "text": [
            "¿En que isla vives? \n",
            "Ibiza\n",
            "Resides en la isla Ibiza\n"
          ]
        }
      ]
    },
    {
      "cell_type": "markdown",
      "metadata": {
        "id": "cIWa1oxZJCeZ"
      },
      "source": [
        "16. Comprueba si la isla está en la lista de islas y muestre un mensaje indicando \"Resides en una isla de las Islas Canarias\" en caso afirmativo o \"La isla .... no pertenece a las Islas Canarias\" en caso negativo"
      ]
    },
    {
      "cell_type": "code",
      "metadata": {
        "id": "UsM9_Qa9fom7",
        "outputId": "ff1eada3-00a0-424c-a9f2-cac8f5c5cadf",
        "colab": {
          "base_uri": "https://localhost:8080/"
        }
      },
      "source": [
        "if isla in islas:\n",
        "  print (\"Resides en una isla de las Islas Canarias\")\n",
        "else:\n",
        "  print(\"La isla \"+isla+\" no pertenece a las Islas Canarias\")"
      ],
      "execution_count": 32,
      "outputs": [
        {
          "output_type": "stream",
          "name": "stdout",
          "text": [
            "La isla Ibiza no pertenece a las Islas Canarias\n"
          ]
        }
      ]
    }
  ]
}
