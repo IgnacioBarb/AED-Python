{
  "nbformat": 4,
  "nbformat_minor": 0,
  "metadata": {
    "colab": {
      "name": "7 Bucles.ipynb",
      "provenance": []
    },
    "kernelspec": {
      "name": "python3",
      "display_name": "Python 3"
    },
    "language_info": {
      "name": "python"
    }
  },
  "cells": [
    {
      "cell_type": "markdown",
      "metadata": {
        "id": "Uf8IFL34lN1f"
      },
      "source": [
        "#Bucles\n",
        "\n",
        "\n",
        "##Bucle «while»\n",
        "La palabra reservada while ejecuta una porción de código una y otra vez hasta que la condición especificada sea falsa; o, dicho de otro modo, ejecuta una porción de código mientras que la condición sea verdadera."
      ]
    },
    {
      "cell_type": "code",
      "metadata": {
        "id": "UORcAgdGlJd7"
      },
      "source": [
        "a = 1\n",
        "while a < 10:\n",
        "  print(\"¡Hola, mundo!\")"
      ],
      "execution_count": null,
      "outputs": []
    },
    {
      "cell_type": "markdown",
      "metadata": {
        "id": "52w5Ge_mlfs7"
      },
      "source": [
        "Si ejecutamos este código, veremos que el programa imprime infintamente el mensaje en pantalla. Esto ocurre por cuanto la condición a < 10 es inexorablemente siempre verdadera (uno es menor que diez). Ahora bien, consideremos este otro ejemplo."
      ]
    },
    {
      "cell_type": "code",
      "metadata": {
        "id": "0GgHIuRclgqp"
      },
      "source": [
        "a = 1\n",
        "while a < 10:\n",
        "  print(\"¡Hola, mundo!\")\n",
        "  a = a + 1"
      ],
      "execution_count": null,
      "outputs": []
    },
    {
      "cell_type": "markdown",
      "metadata": {
        "id": "Ldase27slnTL"
      },
      "source": [
        "Ahora el resultado es distinto: el mensaje se imprime nueve veces. Analicemos por qué pasa esto. Cuando el intérprete tiene que ejecutar el bucle, evalúa la condición a < 10, que en un primer momento equivale a 1 < 10, que es verdadero. Entonces, ejecuta el bloque de código dentro del bucle: imprime el mensaje en pantalla y luego le suma 1 a la variable a. Cuando el bloque de código finaliza, se vuelve a evaluar la condición, que ahora resulta ser 2 < 10, aún verdadero. Luego se ejecuta nuevamente el bloque de código y el proceso se repite hasta llegar a la condición 10 < 10, que es falsa y por ende el bucle termina.\n",
        "\n",
        "Podemos ver con más detalle el proceso imprimiendo la variable a."
      ]
    },
    {
      "cell_type": "code",
      "metadata": {
        "id": "M2ROWiF1lqIY"
      },
      "source": [
        "a = 1\n",
        "while a < 10:\n",
        "  print(\"¡Hola, mundo!\")\n",
        "  print(a)\n",
        "  a += 1"
      ],
      "execution_count": null,
      "outputs": []
    },
    {
      "cell_type": "markdown",
      "metadata": {
        "id": "RXzH46Cvlv8P"
      },
      "source": [
        "Además, cambié la última línea por a += 1, que es simplemente un atajo para a = a + 1.\n",
        "\n",
        "Ahora bien, combinando lo que hemos aprendido hasta el momento y el conocimiento que obtuvimos sobre colecciones en la sección anterior, podemos crear un bucle while que imprima todos los elementos dentro de una lista."
      ]
    },
    {
      "cell_type": "code",
      "metadata": {
        "id": "OH4JF759l0Rh"
      },
      "source": [
        "lenguajes = [\"Python\", \"C\", \"C++\", \"Java\"]\n",
        "i = 0\n",
        "\n",
        "while i < len(lenguajes):\n",
        "    print(lenguajes[i])\n",
        "    i += 1"
      ],
      "execution_count": null,
      "outputs": []
    },
    {
      "cell_type": "markdown",
      "metadata": {
        "id": "OsxkBdQsl55b"
      },
      "source": [
        "##Bucle «for»\n",
        "Si bien un bucle while es perfectamente capaz de, como vimos, imprimir los elementos de una colección, resulta que un bucle for es una herramienta más pertinente para este tipo de situaciones."
      ]
    },
    {
      "cell_type": "code",
      "metadata": {
        "id": "uGKWnNQGl927"
      },
      "source": [
        "lenguajes = [\"Python\", \"C\", \"C++\", \"Java\"]\n",
        "\n",
        "for lenguaje in lenguajes:\n",
        "  print(lenguaje)"
      ],
      "execution_count": null,
      "outputs": []
    },
    {
      "cell_type": "markdown",
      "metadata": {
        "id": "e0Jbs7-4mCml"
      },
      "source": [
        "¡Genial! Lo que ha ocurrido aquí es lo siguiente: el bucle for ejecuta el bloque de código indentado (en este caso la llamada a print()) tantas veces como elementos haya en la colección indicada a la derecha del operador in. Pero, cada vez que ese código es ejecutado, la variable lenguaje tendrá un valor diferente: en la primera ejecución será igual a \"Python\"; en la segunda, a \"C\"; y así hasta alcanzar el final de la lista.\n",
        "\n",
        "Este tipo de bucle for es bastante diferente al que prima en otros lenguajes de programación. No obstante, ese comportamiento puede conseguirse fácilmente en Python empleando otra de sus funciones incorporadas. Por ejemplo, si queremos imprimir números del 1 al 10:"
      ]
    },
    {
      "cell_type": "code",
      "metadata": {
        "id": "m0zuF3O5mCUp"
      },
      "source": [
        "for i in range(1, 11):\n",
        "    print(i)"
      ],
      "execution_count": null,
      "outputs": []
    },
    {
      "cell_type": "markdown",
      "metadata": {
        "id": "x03-697amMeV"
      },
      "source": [
        "¿Qué tipos de dato pueden ser recorridos con un bucle for? Bien, de los que hemos visto, las colecciones (listas, tuplas y diccionarios) y las cadenas (entendidas como una colección de caracteres). No obstante, hay muchos otros objetos que no se incluyen en ninguna de estas categorías y no obstante ello pueden ser recorridos. Se dice que son objetos iterables. Este es el caso del objeto retornado por la función range().\n",
        "\n",
        "Históricamente, range() retornaba una lista, de modo que range(1, 4) == [1, 2, 3]. En versiones actuales de Python, su funcionamiento es un tanto más complejo, por cuanto genera los números del rango especificado a medida que son utilizados, para optimizar el rendimiento del código. No te preocupes, no es una cuestión relevante en este momento. En última instancia, puedes convertir cualquier objeto iterable a una lista vía list()."
      ]
    },
    {
      "cell_type": "code",
      "metadata": {
        "id": "kQX4go7NmXiJ"
      },
      "source": [
        "list(range(1, 11))"
      ],
      "execution_count": null,
      "outputs": []
    }
  ]
}